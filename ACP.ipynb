{
 "cells": [
  {
   "cell_type": "code",
   "execution_count": 6,
   "id": "latest-penetration",
   "metadata": {},
   "outputs": [],
   "source": [
    "# pandas : panel data , permet de manipuler et l'analyser des données\n",
    "import pandas as pd \n",
    "# Seaborn est une bibliothèque permettant de créer des graphiques statistiques en Python.\n",
    "\n",
    "#numpy : destinée à manipuler des matrices ou tableaux multidimensionnels et des fonctions mathématiques opérant\n",
    "#        sur ces tableaux.\n",
    "              \n",
    "import numpy as np #numpy : destinée à manipuler des matrices ou tableaux multidimensionnels et des fonctions mathématiques \n",
    "#                  opérant sur ces tableaux.\n",
    "\n",
    "# preprocessing : package pour centrer et normaliser les données avant d'effectuer l'ACP.\n",
    "from sklearn.preprocessing import StandardScaler\n",
    "\n",
    "# decomposition : Package pour l'analyse en composantes principales de scikit learn.\n",
    "from sklearn.decomposition import PCA\n",
    "\n",
    "# matplotlib : pour dessiner des graphiques, des tracés ...\n",
    "import matplotlib.pyplot as plt\n"
   ]
  },
  {
   "cell_type": "code",
   "execution_count": 7,
   "id": "precious-softball",
   "metadata": {},
   "outputs": [
    {
     "name": "stdout",
     "output_type": "stream",
     "text": [
      "<class 'pandas.core.frame.DataFrame'>\n",
      "RangeIndex: 8618 entries, 0 to 8617\n",
      "Data columns (total 40 columns):\n",
      " #   Column            Non-Null Count  Dtype  \n",
      "---  ------            --------------  -----  \n",
      " 0   ID                8618 non-null   int64  \n",
      " 1   ShortDescrip      8618 non-null   object \n",
      " 2   Energy_kcal       8618 non-null   int64  \n",
      " 3   Protein_g         8618 non-null   float64\n",
      " 4   Fat_g             8618 non-null   float64\n",
      " 5   Carb_g            8618 non-null   float64\n",
      " 6   Sugar_g           8618 non-null   float64\n",
      " 7   Fiber_g           8618 non-null   float64\n",
      " 8   VitA_mcg          8618 non-null   int64  \n",
      " 9   VitB6_mg          8618 non-null   float64\n",
      " 10  VitB12_mcg        8618 non-null   float64\n",
      " 11  VitC_mg           8618 non-null   float64\n",
      " 12  VitE_mg           8618 non-null   float64\n",
      " 13  Folate_mcg        8618 non-null   int64  \n",
      " 14  Niacin_mg         8618 non-null   float64\n",
      " 15  Riboflavin_mg     8618 non-null   float64\n",
      " 16  Thiamin_mg        8618 non-null   float64\n",
      " 17  Calcium_mg        8618 non-null   int64  \n",
      " 18  Copper_mcg        8618 non-null   float64\n",
      " 19  Iron_mg           8618 non-null   float64\n",
      " 20  Magnesium_mg      8618 non-null   int64  \n",
      " 21  Manganese_mg      8618 non-null   float64\n",
      " 22  Phosphorus_mg     8618 non-null   int64  \n",
      " 23  Selenium_mcg      8618 non-null   float64\n",
      " 24  Zinc_mg           8618 non-null   float64\n",
      " 25  VitA_USRDA        8618 non-null   float64\n",
      " 26  VitB6_USRDA       8618 non-null   float64\n",
      " 27  VitB12_USRDA      8618 non-null   float64\n",
      " 28  VitC_USRDA        8618 non-null   float64\n",
      " 29  VitE_USRDA        8618 non-null   float64\n",
      " 30  Folate_USRDA      8618 non-null   float64\n",
      " 31  Niacin_USRDA      8618 non-null   float64\n",
      " 32  Riboflavin_USRDA  8618 non-null   float64\n",
      " 33  Thiamin_USRDA     8618 non-null   float64\n",
      " 34  Calcium_USRDA     8618 non-null   float64\n",
      " 35  Copper_USRDA      8618 non-null   float64\n",
      " 36  Magnesium_USRDA   8618 non-null   float64\n",
      " 37  Phosphorus_USRDA  8618 non-null   float64\n",
      " 38  Selenium_USRDA    8618 non-null   float64\n",
      " 39  Zinc_USRDA        8618 non-null   float64\n",
      "dtypes: float64(32), int64(7), object(1)\n",
      "memory usage: 2.6+ MB\n"
     ]
    }
   ],
   "source": [
    "# importer les données de notre fichier dataset.\n",
    "data = pd.read_csv(\"./bd-tp1.csv\")\n",
    "\n",
    "# informations sur les données avec Pandas\n",
    "data.info()\n"
   ]
  },
  {
   "cell_type": "code",
   "execution_count": 8,
   "id": "short-michigan",
   "metadata": {},
   "outputs": [
    {
     "name": "stdout",
     "output_type": "stream",
     "text": [
      "(8618, 40)\n"
     ]
    }
   ],
   "source": [
    "# L'attribut shape renvoie les dimensions de notre data\n",
    "print( data.shape )\n",
    "\n",
    "# il y a 8618 échantillons et 40 variables, (Etat : étiquette )\n"
   ]
  },
  {
   "cell_type": "code",
   "execution_count": 10,
   "id": "descending-scheduling",
   "metadata": {},
   "outputs": [
    {
     "name": "stdout",
     "output_type": "stream",
     "text": [
      "                            ID  Energy_kcal  Protein_g  Fat_g  Carb_g  \\\n",
      "ShortDescrip                                                            \n",
      "BUTTER,WITH SALT          1001          717       0.85  81.11    0.06   \n",
      "BUTTER,WHIPPED,WITH SALT  1002          717       0.85  81.11    0.06   \n",
      "BUTTER OIL,ANHYDROUS      1003          876       0.28  99.48    0.00   \n",
      "CHEESE,BLUE               1004          353      21.40  28.74    2.34   \n",
      "CHEESE,BRICK              1005          371      23.24  29.68    2.79   \n",
      "\n",
      "                          Sugar_g  Fiber_g  VitA_mcg  VitB6_mg  VitB12_mcg  \\\n",
      "ShortDescrip                                                                 \n",
      "BUTTER,WITH SALT             0.06      0.0       684     0.003        0.17   \n",
      "BUTTER,WHIPPED,WITH SALT     0.06      0.0       684     0.003        0.13   \n",
      "BUTTER OIL,ANHYDROUS         0.00      0.0       840     0.001        0.01   \n",
      "CHEESE,BLUE                  0.50      0.0       198     0.166        1.22   \n",
      "CHEESE,BRICK                 0.51      0.0       292     0.065        1.26   \n",
      "\n",
      "                          ...  Folate_USRDA  Niacin_USRDA  Riboflavin_USRDA  \\\n",
      "ShortDescrip              ...                                                 \n",
      "BUTTER,WITH SALT          ...        0.0075      0.002625          0.026154   \n",
      "BUTTER,WHIPPED,WITH SALT  ...        0.0075      0.002625          0.026154   \n",
      "BUTTER OIL,ANHYDROUS      ...        0.0000      0.000188          0.003846   \n",
      "CHEESE,BLUE               ...        0.0900      0.063500          0.293846   \n",
      "CHEESE,BRICK              ...        0.0500      0.007375          0.270000   \n",
      "\n",
      "                          Thiamin_USRDA  Calcium_USRDA  Copper_USRDA  \\\n",
      "ShortDescrip                                                           \n",
      "BUTTER,WITH SALT               0.004167       0.020000      0.000000   \n",
      "BUTTER,WHIPPED,WITH SALT       0.004167       0.020000      0.000018   \n",
      "BUTTER OIL,ANHYDROUS           0.000833       0.003333      0.000001   \n",
      "CHEESE,BLUE                    0.024167       0.440000      0.000044   \n",
      "CHEESE,BRICK                   0.011667       0.561667      0.000027   \n",
      "\n",
      "                          Magnesium_USRDA  Phosphorus_USRDA  Selenium_USRDA  \\\n",
      "ShortDescrip                                                                  \n",
      "BUTTER,WITH SALT                 0.004762          0.034286        0.018182   \n",
      "BUTTER,WHIPPED,WITH SALT         0.004762          0.032857        0.018182   \n",
      "BUTTER OIL,ANHYDROUS             0.000000          0.004286        0.000000   \n",
      "CHEESE,BLUE                      0.054762          0.552857        0.263636   \n",
      "CHEESE,BRICK                     0.057143          0.644286        0.263636   \n",
      "\n",
      "                          Zinc_USRDA  \n",
      "ShortDescrip                          \n",
      "BUTTER,WITH SALT            0.008182  \n",
      "BUTTER,WHIPPED,WITH SALT    0.004545  \n",
      "BUTTER OIL,ANHYDROUS        0.000909  \n",
      "CHEESE,BLUE                 0.241818  \n",
      "CHEESE,BRICK                0.236364  \n",
      "\n",
      "[5 rows x 39 columns]\n"
     ]
    }
   ],
   "source": [
    "# l'index pour les données , inplace(true): modifie le meme objet DataFrame sans créer un autre modifié.\n",
    "data.set_index('ShortDescrip', inplace=True)\n",
    "print(  data.head()  )\n"
   ]
  },
  {
   "cell_type": "code",
   "execution_count": 11,
   "id": "attempted-industry",
   "metadata": {},
   "outputs": [
    {
     "name": "stdout",
     "output_type": "stream",
     "text": [
      " moyenne :  0.0\n",
      " variance :  1.0\n"
     ]
    }
   ],
   "source": [
    "# normalisation et centrage des données\n",
    "# moyenne =0, variance=1, les échantillons doivent être des lignes sinon vous devez les transposer\n",
    "\n",
    "#StandardScaler(): Standardisez les caractéristiques en supprimant la moyenne et en adaptant la variance à l'unité.\n",
    "#Ajuste le transformateur à data et renvoie une version transformée de data.\n",
    "\n",
    "scaled_data = StandardScaler().fit_transform(data)\n",
    "\n",
    "# round , 2 chiffres significatifs\n",
    "print (\" moyenne : \", np.round(scaled_data.mean(), 2))\n",
    "print (\" variance : \", np.round(scaled_data.std(), 2))\n"
   ]
  },
  {
   "cell_type": "code",
   "execution_count": 12,
   "id": "polar-height",
   "metadata": {},
   "outputs": [],
   "source": [
    "\n",
    "# instanciation d'un objet ACP à entraîner avec notre jeu de données , nombre de composantes à garder : 3\n",
    "# n_components: Nombre de composants à conserver. si n_components n'est pas défini, tous les composants sont conservés\n",
    "pca_var = PCA(n_components=39)\n",
    "pca=pca_var.fit_transform(scaled_data)\n"
   ]
  },
  {
   "cell_type": "code",
   "execution_count": 13,
   "id": "rural-purpose",
   "metadata": {},
   "outputs": [
    {
     "name": "stdout",
     "output_type": "stream",
     "text": [
      "variance expliquée par les 40 composantes principales= 100.0\n"
     ]
    },
    {
     "data": {
      "text/plain": [
       "array([ 25.30458742,  35.85532983,  44.64762619,  52.16663104,\n",
       "        58.27381227,  63.67142637,  68.14333971,  72.38204965,\n",
       "        75.940578  ,  79.33830856,  82.08298427,  84.59095883,\n",
       "        86.91378561,  89.05705685,  90.95006731,  92.60498275,\n",
       "        94.06450587,  95.38242148,  96.49930725,  97.57182054,\n",
       "        98.5421414 ,  99.35105484,  99.99027518, 100.        ,\n",
       "       100.        , 100.        , 100.        , 100.        ,\n",
       "       100.        , 100.        , 100.        , 100.        ,\n",
       "       100.        , 100.        , 100.        , 100.        ,\n",
       "       100.        , 100.        , 100.        ])"
      ]
     },
     "execution_count": 13,
     "metadata": {},
     "output_type": "execute_result"
    }
   ],
   "source": [
    "\n",
    "# explained_variance_ratio_ : Pourcentage de variance expliqué par chacune des composantes sélectionnées.\n",
    "print (\"variance expliquée par les 40 composantes principales=\" ,sum(pca_var.explained_variance_ratio_*100 ))\n",
    "\n",
    "\n",
    "\n",
    "#print ( pca_var.explained_variance_ratio_*100)\n",
    "\n",
    "\n",
    "np.cumsum(pca_var.explained_variance_ratio_*100)\n",
    "\n",
    "\n",
    "# les 3 premiers vecteurs propres représentent 45% de l’information disponible , ils seront conservés\n",
    "#print ( pca_var.explained_variance_ratio_[:3].sum() )\n",
    "\n",
    "\n"
   ]
  },
  {
   "cell_type": "code",
   "execution_count": 14,
   "id": "necessary-puzzle",
   "metadata": {},
   "outputs": [],
   "source": [
    "pca_var = PCA(n_components=3)\n",
    "pca=pca_var.fit_transform(scaled_data)"
   ]
  },
  {
   "cell_type": "code",
   "execution_count": 16,
   "id": "prescribed-smoke",
   "metadata": {},
   "outputs": [
    {
     "name": "stdout",
     "output_type": "stream",
     "text": [
      "(8618, 18)\n"
     ]
    }
   ],
   "source": [
    "plt.figure(figsize=(10, 7))\n",
    "sns.scatterplot(data=data, x=pca[:, 0], y=pca[:, 1], s=70,\n",
    "                palette=['green', 'blue'])\n",
    "plt.ylabel('deuxième composante principale')\n",
    "plt.xlabel('premier composant principal')\n",
    "plt.title('observations actives')\n",
    "plt.show()\n",
    "\n"
   ]
  },
  {
   "cell_type": "code",
   "execution_count": 17,
   "id": "major-croatia",
   "metadata": {},
   "outputs": [
    {
     "data": {
      "image/png": "[encoded data removed]",
      "text/plain": [
       "<Figure size 720x504 with 1 Axes>"
      ]
     },
     "metadata": {
      "needs_background": "light"
     },
     "output_type": "display_data"
    }
   ],
   "source": [
    "plt.figure(figsize=(10, 7))\n",
    "plt.plot(pca)\n",
    "plt.ylabel('données transformées')\n",
    "plt.xlabel('observation')\n",
    "plt.title(\n",
    "    'données transformées par les composantes principales (variabilité de 95 %)')\n",
    "plt.show()\n"
   ]
  },
  {
   "cell_type": "code",
   "execution_count": 14,
   "id": "successful-writer",
   "metadata": {},
   "outputs": [
    {
     "data": {
      "text/plain": [
       "Riboflavin_mg       0.262418\n",
       "Riboflavin_USRDA    0.262418\n",
       "Niacin_USRDA        0.258812\n",
       "Niacin_mg           0.258812\n",
       "VitB6_mg            0.240501\n",
       "VitB6_USRDA         0.240501\n",
       "Folate_USRDA        0.212681\n",
       "Folate_mcg          0.212681\n",
       "Iron_mg             0.207562\n",
       "Thiamin_mg          0.204830\n",
       "Thiamin_USRDA       0.204830\n",
       "Zinc_mg             0.187754\n",
       "Zinc_USRDA          0.187754\n",
       "Magnesium_USRDA     0.166954\n",
       "Magnesium_mg        0.166954\n",
       "VitB12_mcg          0.147748\n",
       "VitB12_USRDA        0.147748\n",
       "Phosphorus_mg       0.147742\n",
       "Phosphorus_USRDA    0.147742\n",
       "Copper_USRDA        0.140442\n",
       "Copper_mcg          0.140441\n",
       "Calcium_mg          0.118451\n",
       "Calcium_USRDA       0.118451\n",
       "Fiber_g             0.112385\n",
       "Protein_g           0.110871\n",
       "VitA_mcg            0.109110\n",
       "VitA_USRDA          0.109110\n",
       "VitE_mg             0.099110\n",
       "VitE_USRDA          0.099110\n",
       "Carb_g              0.098864\n",
       "Energy_kcal         0.093200\n",
       "Selenium_USRDA      0.075550\n",
       "Selenium_mcg        0.075550\n",
       "VitC_mg             0.070313\n",
       "VitC_USRDA          0.070313\n",
       "Manganese_mg        0.065267\n",
       "Sugar_g             0.038766\n",
       "Fat_g               0.013142\n",
       "ID                 -0.003768\n",
       "dtype: float64"
      ]
     },
     "execution_count": 14,
     "metadata": {},
     "output_type": "execute_result"
    }
   ],
   "source": [
    "# copier les 3 composantes dans la variable vects\n",
    "vects = pca_var.components_[:3]\n",
    "\n",
    "# pd.Series : Tableau unidimensionnel avec des étiquettes d'axe\n",
    "one = pd.Series(vects[0], index=data.columns)\n",
    "one.sort_values(ascending=False)\n",
    "\n",
    "# ces valeurs representent la contribution des variables initiale à la construction des composantes principales"
   ]
  },
  {
   "cell_type": "code",
   "execution_count": 15,
   "id": "miniature-appliance",
   "metadata": {},
   "outputs": [
    {
     "data": {
      "text/plain": [
       "VitB12_mcg          0.359395\n",
       "VitB12_USRDA        0.359395\n",
       "VitA_mcg            0.338235\n",
       "VitA_USRDA          0.338235\n",
       "Copper_USRDA        0.306430\n",
       "Copper_mcg          0.306430\n",
       "Selenium_USRDA      0.133966\n",
       "Selenium_mcg        0.133966\n",
       "Manganese_mg        0.125244\n",
       "Protein_g           0.121639\n",
       "Zinc_USRDA          0.048129\n",
       "Zinc_mg             0.048129\n",
       "Riboflavin_mg       0.013650\n",
       "Riboflavin_USRDA    0.013650\n",
       "Phosphorus_mg       0.001108\n",
       "Phosphorus_USRDA    0.001108\n",
       "ID                 -0.004825\n",
       "Fat_g              -0.017837\n",
       "VitC_USRDA         -0.051677\n",
       "VitC_mg            -0.051677\n",
       "Niacin_USRDA       -0.058509\n",
       "Niacin_mg          -0.058509\n",
       "VitE_USRDA         -0.077677\n",
       "VitE_mg            -0.077677\n",
       "VitB6_mg           -0.082904\n",
       "VitB6_USRDA        -0.082904\n",
       "Magnesium_USRDA    -0.089215\n",
       "Magnesium_mg       -0.089215\n",
       "Iron_mg            -0.100612\n",
       "Calcium_mg         -0.105701\n",
       "Calcium_USRDA      -0.105701\n",
       "Energy_kcal        -0.107462\n",
       "Folate_USRDA       -0.130890\n",
       "Folate_mcg         -0.130890\n",
       "Sugar_g            -0.136787\n",
       "Thiamin_mg         -0.139934\n",
       "Thiamin_USRDA      -0.139934\n",
       "Fiber_g            -0.141735\n",
       "Carb_g             -0.207790\n",
       "dtype: float64"
      ]
     },
     "execution_count": 15,
     "metadata": {},
     "output_type": "execute_result"
    }
   ],
   "source": [
    "two = pd.Series(vects[1], index=data.columns)\n",
    "two.sort_values(ascending=False)"
   ]
  },
  {
   "cell_type": "code",
   "execution_count": 18,
   "id": "lightweight-defeat",
   "metadata": {},
   "outputs": [
    {
     "data": {
      "text/plain": [
       "Phosphorus_mg       0.364788\n",
       "Phosphorus_USRDA    0.364788\n",
       "Calcium_mg          0.297885\n",
       "Calcium_USRDA       0.297885\n",
       "Magnesium_mg        0.283037\n",
       "Magnesium_USRDA     0.283037\n",
       "Protein_g           0.149815\n",
       "Energy_kcal         0.147061\n",
       "Fiber_g             0.138099\n",
       "Fat_g               0.136457\n",
       "Selenium_USRDA      0.120648\n",
       "Selenium_mcg        0.120648\n",
       "Copper_mcg          0.102994\n",
       "Copper_USRDA        0.102993\n",
       "VitE_mg             0.047504\n",
       "VitE_USRDA          0.047504\n",
       "Manganese_mg        0.035311\n",
       "Zinc_USRDA          0.034347\n",
       "Zinc_mg             0.034347\n",
       "ID                  0.027240\n",
       "Iron_mg             0.014128\n",
       "Carb_g              0.011156\n",
       "Sugar_g            -0.036565\n",
       "VitA_mcg           -0.063956\n",
       "VitA_USRDA         -0.063956\n",
       "VitB12_USRDA       -0.065609\n",
       "VitB12_mcg         -0.065609\n",
       "VitC_USRDA         -0.086795\n",
       "VitC_mg            -0.086795\n",
       "VitB6_mg           -0.123684\n",
       "VitB6_USRDA        -0.123684\n",
       "Thiamin_mg         -0.143979\n",
       "Thiamin_USRDA      -0.143979\n",
       "Niacin_mg          -0.145736\n",
       "Niacin_USRDA       -0.145736\n",
       "Riboflavin_mg      -0.161772\n",
       "Riboflavin_USRDA   -0.161772\n",
       "Folate_USRDA       -0.165567\n",
       "Folate_mcg         -0.165567\n",
       "dtype: float64"
      ]
     },
     "execution_count": 18,
     "metadata": {},
     "output_type": "execute_result"
    }
   ],
   "source": [
    "three = pd.Series(vects[2], index=data.columns)\n",
    "three.sort_values(ascending=False)"
   ]
  },
  {
   "cell_type": "code",
   "execution_count": null,
   "id": "twelve-paste",
   "metadata": {},
   "outputs": [],
   "source": []
  }
 ],
 "metadata": {
  "kernelspec": {
   "display_name": "Python 3",
   "language": "python",
   "name": "python3"
  },
  "language_info": {
   "codemirror_mode": {
    "name": "ipython",
    "version": 3
   },
   "file_extension": ".py",
   "mimetype": "text/x-python",
   "name": "python",
   "nbconvert_exporter": "python",
   "pygments_lexer": "ipython3",
   "version": "3.8.6"
  }
 },
 "nbformat": 4,
 "nbformat_minor": 5
}
